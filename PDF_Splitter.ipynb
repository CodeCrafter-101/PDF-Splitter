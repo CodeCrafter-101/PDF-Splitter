{
  "nbformat": 4,
  "nbformat_minor": 0,
  "metadata": {
    "colab": {
      "provenance": [],
      "authorship_tag": "ABX9TyORS7hvvTUMkiliRo7FbPx4",
      "include_colab_link": true
    },
    "kernelspec": {
      "name": "python3",
      "display_name": "Python 3"
    },
    "language_info": {
      "name": "python"
    }
  },
  "cells": [
    {
      "cell_type": "markdown",
      "metadata": {
        "id": "view-in-github",
        "colab_type": "text"
      },
      "source": [
        "<a href=\"https://colab.research.google.com/github/CodeCrafter-101/PDF-Splitter/blob/main/PDF_Splitter.ipynb\" target=\"_parent\"><img src=\"https://colab.research.google.com/assets/colab-badge.svg\" alt=\"Open In Colab\"/></a>"
      ]
    },
    {
      "cell_type": "code",
      "source": [
        "pip install PyPDF2"
      ],
      "metadata": {
        "colab": {
          "base_uri": "https://localhost:8080/"
        },
        "id": "X555oqxCXAIh",
        "outputId": "5cfb72a9-3951-4f3d-f049-73caa873ca22"
      },
      "execution_count": 1,
      "outputs": [
        {
          "output_type": "stream",
          "name": "stdout",
          "text": [
            "Collecting PyPDF2\n",
            "  Downloading pypdf2-3.0.1-py3-none-any.whl.metadata (6.8 kB)\n",
            "Downloading pypdf2-3.0.1-py3-none-any.whl (232 kB)\n",
            "\u001b[?25l   \u001b[90m━━━━━━━━━━━━━━━━━━━━━━━━━━━━━━━━━━━━━━━━\u001b[0m \u001b[32m0.0/232.6 kB\u001b[0m \u001b[31m?\u001b[0m eta \u001b[36m-:--:--\u001b[0m\r\u001b[2K   \u001b[91m━━━━━━━━━━━━━━━━━━━━━\u001b[0m\u001b[90m╺\u001b[0m\u001b[90m━━━━━━━━━━━━━━━━━━\u001b[0m \u001b[32m122.9/232.6 kB\u001b[0m \u001b[31m3.4 MB/s\u001b[0m eta \u001b[36m0:00:01\u001b[0m\r\u001b[2K   \u001b[90m━━━━━━━━━━━━━━━━━━━━━━━━━━━━━━━━━━━━━━━━\u001b[0m \u001b[32m232.6/232.6 kB\u001b[0m \u001b[31m3.8 MB/s\u001b[0m eta \u001b[36m0:00:00\u001b[0m\n",
            "\u001b[?25hInstalling collected packages: PyPDF2\n",
            "Successfully installed PyPDF2-3.0.1\n"
          ]
        }
      ]
    },
    {
      "cell_type": "code",
      "execution_count": 2,
      "metadata": {
        "colab": {
          "base_uri": "https://localhost:8080/"
        },
        "id": "WjEcbOeaW4-m",
        "outputId": "5ea5eefd-f9fb-4a16-fb85-2233ec23345f"
      },
      "outputs": [
        {
          "output_type": "stream",
          "name": "stdout",
          "text": [
            "Enter the page number to split the pdf 6\n",
            "Total pages in the PDF: 18\n",
            "Created: /content/output/part1.pdf\n",
            "Created: /content/output/part2.pdf\n"
          ]
        }
      ],
      "source": [
        "import os\n",
        "from PyPDF2 import PdfReader, PdfWriter\n",
        "\n",
        "def split_pdf(input_pdf, output_dir, split_page):\n",
        "    # Create output folder if not exists\n",
        "    if not os.path.exists(output_dir):\n",
        "        os.makedirs(output_dir)\n",
        "\n",
        "    # Read the PDF\n",
        "    try:\n",
        "        pdf = PdfReader(open(input_pdf, \"rb\"))\n",
        "    except FileNotFoundError:\n",
        "        print(f\"File not found: {input_pdf}\")\n",
        "        return\n",
        "\n",
        "    total_pages = len(pdf.pages)\n",
        "    print(f\"Total pages in the PDF: {total_pages}\")\n",
        "\n",
        "    # Validate split page\n",
        "    if split_page < 1 or split_page >= total_pages:\n",
        "        print(\"Invalid split . Please chose a number b/w 1 and\", total_pages - 1)\n",
        "        return\n",
        "\n",
        "    part1_writer = PdfWriter()\n",
        "    part2_writer = PdfWriter()\n",
        "\n",
        "    for page_num in range(total_pages):\n",
        "        if page_num < split_page:\n",
        "            part1_writer.add_page(pdf.pages[page_num])\n",
        "        else:\n",
        "            part2_writer.add_page(pdf.pages[page_num])\n",
        "\n",
        "    # Save output files\n",
        "    part1_path = os.path.join(output_dir, 'part1.pdf')\n",
        "    part2_path = os.path.join(output_dir, 'part2.pdf')\n",
        "\n",
        "    with open(part1_path, 'wb') as f1:\n",
        "        part1_writer.write(f1)\n",
        "    with open(part2_path, 'wb') as f2:\n",
        "        part2_writer.write(f2)\n",
        "\n",
        "    print(f\"Created: {part1_path}\")\n",
        "    print(f\"Created: {part2_path}\")\n",
        "\n",
        "# Run the script\n",
        "if __name__ == \"__main__\":\n",
        "    input_pdf = '/content/Researchpaper.pdf'  # Change this if needed\n",
        "    output_dir = '/content/output'       # Corrected folder name\n",
        "\n",
        "    try:\n",
        "        split_page = int(input(\"Enter the page number to split the pdf \"))\n",
        "        split_pdf(input_pdf, output_dir, split_page)\n",
        "    except ValueError:\n",
        "        print(\"Please enter a valid number.\")\n"
      ]
    }
  ]
}